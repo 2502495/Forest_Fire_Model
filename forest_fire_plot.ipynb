{
 "cells": [
  {
   "cell_type": "code",
   "execution_count": 43,
   "metadata": {},
   "outputs": [
    {
     "ename": "ModuleNotFoundError",
     "evalue": "No module named 'forest_fire_model_script'",
     "output_type": "error",
     "traceback": [
      "\u001b[1;31m---------------------------------------------------------------------------\u001b[0m",
      "\u001b[1;31mModuleNotFoundError\u001b[0m                       Traceback (most recent call last)",
      "Cell \u001b[1;32mIn[43], line 5\u001b[0m\n\u001b[0;32m      3\u001b[0m \u001b[38;5;28;01mimport\u001b[39;00m \u001b[38;5;21;01mmatplotlib\u001b[39;00m\u001b[38;5;21;01m.\u001b[39;00m\u001b[38;5;21;01mpyplot\u001b[39;00m \u001b[38;5;28;01mas\u001b[39;00m \u001b[38;5;21;01mplt\u001b[39;00m\n\u001b[0;32m      4\u001b[0m \u001b[38;5;28;01mimport\u001b[39;00m \u001b[38;5;21;01mseaborn\u001b[39;00m \u001b[38;5;28;01mas\u001b[39;00m \u001b[38;5;21;01mseabn\u001b[39;00m\n\u001b[1;32m----> 5\u001b[0m \u001b[38;5;28;01mimport\u001b[39;00m \u001b[38;5;21;01mforest_fire_model_script\u001b[39;00m\n\u001b[0;32m      6\u001b[0m \u001b[38;5;28;01mimport\u001b[39;00m \u001b[38;5;21;01mimportlib\u001b[39;00m\n\u001b[0;32m      9\u001b[0m \u001b[38;5;66;03m#Forest Fire Model Plot\u001b[39;00m\n\u001b[0;32m     10\u001b[0m \u001b[38;5;66;03m#Run cell to get plot\u001b[39;00m\n\u001b[0;32m     11\u001b[0m \u001b[38;5;66;03m# Reload the script each time to update any changes made to probability f\u001b[39;00m\n",
      "\u001b[1;31mModuleNotFoundError\u001b[0m: No module named 'forest_fire_model_script'"
     ]
    }
   ],
   "source": [
    "import numpy as np\n",
    "import pandas as pd\n",
    "import matplotlib.pyplot as plt\n",
    "import seaborn as seabn\n",
    "import forest_fire_model_script\n",
    "import importlib\n",
    "\n",
    "\n",
    "#Forest Fire Model Plot\n",
    "#Run cell to get plot\n",
    "# Reload the script each time to update any changes made to probability f\n",
    "importlib.reload(forest_fire_model_script)\n",
    "with np.load(\"Forest_Fire_Model.npz\") as forest_grid:\n",
    "    forest_grid = forest_grid[\"simulation_state\"]\n",
    "\n",
    "# Creating empty list for trees and fires\n",
    "num_trees_array = []\n",
    "num_fires_array = []\n",
    "\n",
    "# looping over each time step in state (grid)\n",
    "for grid_state in forest_grid:\n",
    "    # Calculating total number of cells in the grid \n",
    "    total_cells = grid_state.shape[0]*grid_state.shape[1]\n",
    "    \n",
    "    # Counting trees, then calculating percentage coverage\n",
    "    trees = np.count_nonzero(grid_state == 1)/(total_cells)*100\n",
    "    num_trees_array.append(trees)\n",
    "    \n",
    "    # Counting fires, then calculating percentage coverage\n",
    "    fires = np.count_nonzero(grid_state == 2)/(total_cells)*100\n",
    "    num_fires_array.append(fires)\n",
    "\n",
    "# Lightning rate (probility f) calculated as a percentage\n",
    "lightning_strike = lightning_probability*100\n",
    "\n",
    "# wind_effect rate (probility w) calculated as a percentage\n",
    "wind_effect = wind_effect_probability*100\n",
    "\n",
    "# Creating dataframe\n",
    "forestfire_model = pd.DataFrame({\"Trees\" : num_trees_array, \"Fires\" : num_fires_array, \"Lightning rate\" : lightning_strike, \"Wind-effect rate\" : wind_effect})\n",
    "forestfire_model.index.name = \"Time step\"\n",
    "\n",
    "# Setting size of figure, style and font size \n",
    "seabn.set(style = \"white\", font_scale=1.5)\n",
    "\n",
    "# Plotting the data\n",
    "plot = seabn.relplot(data=forestfire_model, kind=\"line\").set(\n",
    "    xlim=(0, None), \n",
    "    ylim=(0, None), \n",
    "    ylabel=\"Proportion of Cells (%)\"\n",
    ")\n",
    "\n",
    "# Set figure size (inches)\n",
    "plot.fig.set_size_inches(8, 4)\n",
    "\n",
    "# Saving output as a png (picture) file\n",
    "plt.savefig('forest_fire_plot.png')"
   ]
  },
  {
   "cell_type": "code",
   "execution_count": null,
   "metadata": {},
   "outputs": [],
   "source": []
  },
  {
   "cell_type": "code",
   "execution_count": null,
   "metadata": {},
   "outputs": [],
   "source": []
  }
 ],
 "metadata": {
  "kernelspec": {
   "display_name": "Python 3 (ipykernel)",
   "language": "python",
   "name": "python3"
  },
  "language_info": {
   "codemirror_mode": {
    "name": "ipython",
    "version": 3
   },
   "file_extension": ".py",
   "mimetype": "text/x-python",
   "name": "python",
   "nbconvert_exporter": "python",
   "pygments_lexer": "ipython3",
   "version": "3.11.5"
  }
 },
 "nbformat": 4,
 "nbformat_minor": 4
}
